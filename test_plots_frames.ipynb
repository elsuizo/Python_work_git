{
 "cells": [
  {
   "cell_type": "code",
   "execution_count": 1,
   "metadata": {
    "collapsed": true
   },
   "outputs": [],
   "source": [
    "import numpy as np"
   ]
  },
  {
   "cell_type": "code",
   "execution_count": 11,
   "metadata": {
    "collapsed": true
   },
   "outputs": [],
   "source": [
    "import matplotlib.pyplot as plt\n",
    "%matplotlib inline"
   ]
  },
  {
   "cell_type": "code",
   "execution_count": 51,
   "metadata": {
    "collapsed": false
   },
   "outputs": [
    {
     "data": {
      "text/plain": [
       "<matplotlib.text.Text at 0xa9ad434c>"
      ]
     },
     "execution_count": 51,
     "metadata": {},
     "output_type": "execute_result"
    },
    {
     "data": {
      "image/png": "[encoded data removed]",
      "text/plain": [
       "<matplotlib.figure.Figure at 0xa9c20cac>"
      ]
     },
     "metadata": {},
     "output_type": "display_data"
    }
   ],
   "source": [
    "fig,ax = plt.subplots()\n",
    "plt.xlim([-2,2])\n",
    "plt.ylim([-2,2])\n",
    "ax.add_patch(plt.Rectangle((0,0),1,1,fill=None,alpha=1))\n",
    "ax.text(.9,-.2,r'$x$')\n",
    "ax.text(-.2,.9,r'$y$')\n",
    "ax.text(-0.1,-0.1,r'$0$')\n",
    "ax.text(.4,.4,r'$\\{A \\}$',fontsize=15)\n",
    "\n",
    "# TODO: ver como agregar bien la cantidad de frames que se quiera\n",
    "\n",
    "#ax2 = plt.subplot()\n",
    "#ax2.add_patch(plt.Rectangle((0,1),1,1,fill=None,alpha=1))\n",
    "#ax2.text(.9,-.2,r'$x$')\n",
    "#ax2.text(-.2,.9,r'$y$')\n",
    "#ax2.text(-0.1,-0.1,r'$0$')\n",
    "#ax2.text(.4,.4,r'$\\{A \\}$',fontsize=15)"
   ]
  },
  {
   "cell_type": "code",
   "execution_count": null,
   "metadata": {
    "collapsed": true
   },
   "outputs": [],
   "source": []
  }
 ],
 "metadata": {
  "kernelspec": {
   "display_name": "Python 2",
   "language": "python",
   "name": "python2"
  },
  "language_info": {
   "codemirror_mode": {
    "name": "ipython",
    "version": 2
   },
   "file_extension": ".py",
   "mimetype": "text/x-python",
   "name": "python",
   "nbconvert_exporter": "python",
   "pygments_lexer": "ipython2",
   "version": "2.7.9"
  }
 },
 "nbformat": 4,
 "nbformat_minor": 0
}
