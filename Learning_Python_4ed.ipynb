{
 "metadata": {
  "name": ""
 },
 "nbformat": 3,
 "nbformat_minor": 0,
 "worksheets": [
  {
   "cells": [
    {
     "cell_type": "markdown",
     "metadata": {},
     "source": [
      "#OOP \n",
      "\n",
      "###declaraciones de clases \n",
      "\n",
      "Una clase genera multiples instancias de objetos, en OOP(Python) hay class object and instance object:\n",
      "\n",
      "\n",
      "    * class object provee el comportamiento default \n",
      "    * instance objetc son los objetos reales "
     ]
    },
    {
     "cell_type": "code",
     "collapsed": false,
     "input": [
      "#palabra reservada class\n",
      "class FirstClass: #Definimos una nueva clase\n",
      "    \n",
      "    def setdata(self, value): #definimos un metodo de la clase\n",
      "        self.data = value #self hace mencion a la instancia\n",
      "\n",
      "    def display(self):         \n",
      "        print self.data"
     ],
     "language": "python",
     "metadata": {},
     "outputs": [],
     "prompt_number": 3
    },
    {
     "cell_type": "code",
     "collapsed": false,
     "input": [
      "#creamos una instancia de FirstClass\n",
      "primera_clase = FirstClass()"
     ],
     "language": "python",
     "metadata": {},
     "outputs": [],
     "prompt_number": 4
    },
    {
     "cell_type": "code",
     "collapsed": false,
     "input": [
      "#seteamos el atributo de FirstClass\n",
      "primera_clase.setdata(\"37\")"
     ],
     "language": "python",
     "metadata": {},
     "outputs": [],
     "prompt_number": 7
    },
    {
     "cell_type": "code",
     "collapsed": false,
     "input": [
      "#ejecutamos el metodo del objeto\n",
      "primera_clase.display()"
     ],
     "language": "python",
     "metadata": {},
     "outputs": [
      {
       "output_type": "stream",
       "stream": "stdout",
       "text": [
        "37\n"
       ]
      }
     ],
     "prompt_number": 8
    },
    {
     "cell_type": "markdown",
     "metadata": {},
     "source": [
      "Por como definimos la clase, podemos agregar los atributos que queramos, osea que no son privados "
     ]
    },
    {
     "cell_type": "code",
     "collapsed": false,
     "input": [
      "#agregamos un atributo al objeto que no estaba en la clase base\n",
      "primera_clase.atr = 73"
     ],
     "language": "python",
     "metadata": {},
     "outputs": [],
     "prompt_number": 11
    },
    {
     "cell_type": "markdown",
     "metadata": {},
     "source": [
      "Segundo ejemplo, donde creamos una segunda clase que es subclase de la anterior. Por ello hereda todos los metodos y atributos, adem\u00e1s redefinimos el metodo display"
     ]
    },
    {
     "cell_type": "code",
     "collapsed": false,
     "input": [
      "class SecondClass(FirstClass): #subclase(superclase1, superclase2, ....):\n",
      "    def display(self): #redefinimos display \n",
      "        print 'El valor actual = ', self.data "
     ],
     "language": "python",
     "metadata": {},
     "outputs": [],
     "prompt_number": 19
    },
    {
     "cell_type": "code",
     "collapsed": false,
     "input": [
      "segunda_clase = SecondClass()"
     ],
     "language": "python",
     "metadata": {},
     "outputs": [],
     "prompt_number": 20
    },
    {
     "cell_type": "code",
     "collapsed": false,
     "input": [
      "segunda_clase.setdata(73)"
     ],
     "language": "python",
     "metadata": {},
     "outputs": [],
     "prompt_number": 23
    },
    {
     "cell_type": "code",
     "collapsed": false,
     "input": [
      "segunda_clase.display()"
     ],
     "language": "python",
     "metadata": {},
     "outputs": [
      {
       "output_type": "stream",
       "stream": "stdout",
       "text": [
        "El valor actual =  73\n"
       ]
      }
     ],
     "prompt_number": 24
    },
    {
     "cell_type": "markdown",
     "metadata": {},
     "source": [
      "#Operator overloading\n",
      "\n",
      "Existen metodos especiales \n",
      "\n",
      "~~~python\n",
      "__X__()\n",
      "__add__()\n",
      "__init__()\n",
      "~~~\n",
      "\n",
      "que son fijos para todas las clases, estos metodos especiales nos permiten integrar de manera natural todos los objetos y las clases ya existentes es lo que se conoce como *automatic dispatch mechanism* (mecanismo de env\u00edo autom\u00e1tico): Por ejemplo esto nos permite definir como debe ser la suma de dos clases, como debe ser el *slicing* de un objeto.... etc"
     ]
    },
    {
     "cell_type": "code",
     "collapsed": false,
     "input": [],
     "language": "python",
     "metadata": {},
     "outputs": [],
     "prompt_number": 24
    },
    {
     "cell_type": "code",
     "collapsed": false,
     "input": [],
     "language": "python",
     "metadata": {},
     "outputs": []
    }
   ],
   "metadata": {}
  }
 ]
}