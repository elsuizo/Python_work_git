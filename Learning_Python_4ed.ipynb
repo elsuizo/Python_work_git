{
 "metadata": {
  "name": ""
 },
 "nbformat": 3,
 "nbformat_minor": 0,
 "worksheets": [
  {
   "cells": [
    {
     "cell_type": "markdown",
     "metadata": {},
     "source": [
      "#OOP \n",
      "\n",
      "###declaraciones de clases \n",
      "\n",
      "Una clase genera multiples instancias de objetos, en OOP(Python) hay class object and instance object:\n",
      "\n",
      "\n",
      "    * class object provee el comportamiento default \n",
      "    * instance objetc son los objetos reales "
     ]
    },
    {
     "cell_type": "code",
     "collapsed": false,
     "input": [
      "#palabra reservada class\n",
      "class FirstClass: #Definimos una nueva clase\n",
      "    \n",
      "    def setdata(self, value): #definimos un metodo de la clase\n",
      "        self.data = value #self hace mencion a la instancia\n",
      "\n",
      "    def display(self):         \n",
      "        print self.data"
     ],
     "language": "python",
     "metadata": {},
     "outputs": [],
     "prompt_number": 1
    },
    {
     "cell_type": "code",
     "collapsed": false,
     "input": [
      "#creamos una instancia de FirstClass\n",
      "primera_clase = FirstClass()"
     ],
     "language": "python",
     "metadata": {},
     "outputs": [],
     "prompt_number": 2
    },
    {
     "cell_type": "code",
     "collapsed": false,
     "input": [
      "#seteamos el atributo de FirstClass\n",
      "primera_clase.setdata(\"37\")"
     ],
     "language": "python",
     "metadata": {},
     "outputs": [],
     "prompt_number": 3
    },
    {
     "cell_type": "code",
     "collapsed": false,
     "input": [
      "#ejecutamos el metodo del objeto\n",
      "primera_clase.display()"
     ],
     "language": "python",
     "metadata": {},
     "outputs": [
      {
       "output_type": "stream",
       "stream": "stdout",
       "text": [
        "37\n"
       ]
      }
     ],
     "prompt_number": 4
    },
    {
     "cell_type": "markdown",
     "metadata": {},
     "source": [
      "Por como definimos la clase, podemos agregar los atributos que queramos, osea que no son privados "
     ]
    },
    {
     "cell_type": "code",
     "collapsed": false,
     "input": [
      "#agregamos un atributo al objeto que no estaba en la clase base\n",
      "primera_clase.atr = 73"
     ],
     "language": "python",
     "metadata": {},
     "outputs": [],
     "prompt_number": 5
    },
    {
     "cell_type": "markdown",
     "metadata": {},
     "source": [
      "Segundo ejemplo, donde creamos una segunda clase que es subclase de la anterior. Por ello hereda todos los metodos y atributos, adem\u00e1s redefinimos el metodo display"
     ]
    },
    {
     "cell_type": "code",
     "collapsed": false,
     "input": [
      "class SecondClass(FirstClass): #subclase(superclase1, superclase2, ....):\n",
      "    def display(self): #redefinimos display \n",
      "        print 'El valor actual = ', self.data "
     ],
     "language": "python",
     "metadata": {},
     "outputs": [],
     "prompt_number": 6
    },
    {
     "cell_type": "code",
     "collapsed": false,
     "input": [
      "segunda_clase = SecondClass()"
     ],
     "language": "python",
     "metadata": {},
     "outputs": [],
     "prompt_number": 7
    },
    {
     "cell_type": "code",
     "collapsed": false,
     "input": [
      "segunda_clase.setdata(73)"
     ],
     "language": "python",
     "metadata": {},
     "outputs": [],
     "prompt_number": 8
    },
    {
     "cell_type": "code",
     "collapsed": false,
     "input": [
      "segunda_clase.display()"
     ],
     "language": "python",
     "metadata": {},
     "outputs": [
      {
       "output_type": "stream",
       "stream": "stdout",
       "text": [
        "El valor actual =  73\n"
       ]
      }
     ],
     "prompt_number": 9
    },
    {
     "cell_type": "markdown",
     "metadata": {},
     "source": [
      "#Operator overloading\n",
      "\n",
      "Existen metodos especiales \n",
      "\n",
      "~~~python\n",
      "__X__()\n",
      "__add__()\n",
      "__init__()\n",
      "~~~\n",
      "\n",
      "que son fijos para todas las clases, estos metodos especiales nos permiten integrar de manera natural todos los objetos y las clases ya existentes es lo que se conoce como *automatic dispatch mechanism* (mecanismo de env\u00edo autom\u00e1tico): Por ejemplo esto nos permite definir como debe ser la suma de dos clases, como debe ser el *slicing* de un objeto.... etc"
     ]
    },
    {
     "cell_type": "markdown",
     "metadata": {},
     "source": [
      "Vamos a implementar una tercera clase que sera subclase de la segunda y adem\u00e1s vamos a agregar algunos operadores"
     ]
    },
    {
     "cell_type": "code",
     "collapsed": false,
     "input": [
      "class ThirdClass(SecondClass):\n",
      "    def __init__(self, value): #constructor\n",
      "        self.data = value\n",
      "     \n",
      "    def __add__(self, other): #metodo para suma de dos objetos ThirdClass\n",
      "        return ThirdClass(self.data + other)\n",
      "    \n",
      "    def __str__(self): #metodo para imprimir el objeto\n",
      "        return '[ThirdClass: %s]' % self.data\n",
      "    \n",
      "    def mul(self, other): #metodo para multiplicar dos objetos ThirdClass\n",
      "        self.data *= other"
     ],
     "language": "python",
     "metadata": {},
     "outputs": [],
     "prompt_number": 10
    },
    {
     "cell_type": "code",
     "collapsed": false,
     "input": [
      "tercera_clase = ThirdClass('abs')"
     ],
     "language": "python",
     "metadata": {},
     "outputs": [],
     "prompt_number": 11
    },
    {
     "cell_type": "code",
     "collapsed": false,
     "input": [
      "tercera_clase.display() #lo que heredo de SecondClass"
     ],
     "language": "python",
     "metadata": {},
     "outputs": [
      {
       "output_type": "stream",
       "stream": "stdout",
       "text": [
        "El valor actual =  abs\n"
       ]
      }
     ],
     "prompt_number": 12
    },
    {
     "cell_type": "code",
     "collapsed": false,
     "input": [
      "print tercera_clase #aca llama al metodo __str__"
     ],
     "language": "python",
     "metadata": {},
     "outputs": [
      {
       "output_type": "stream",
       "stream": "stdout",
       "text": [
        "[ThirdClass: abs]\n"
       ]
      }
     ],
     "prompt_number": 13
    },
    {
     "cell_type": "code",
     "collapsed": false,
     "input": [
      "tercera_clase.mul(7)"
     ],
     "language": "python",
     "metadata": {},
     "outputs": [],
     "prompt_number": 14
    },
    {
     "cell_type": "code",
     "collapsed": false,
     "input": [
      "print tercera_clase "
     ],
     "language": "python",
     "metadata": {},
     "outputs": [
      {
       "output_type": "stream",
       "stream": "stdout",
       "text": [
        "[ThirdClass: absabsabsabsabsabsabs]\n"
       ]
      }
     ],
     "prompt_number": 15
    },
    {
     "cell_type": "code",
     "collapsed": false,
     "input": [
      "b = tercera_clase + 'hola' #b es ahora una instancia de ThirdClass"
     ],
     "language": "python",
     "metadata": {},
     "outputs": [],
     "prompt_number": 16
    },
    {
     "cell_type": "code",
     "collapsed": false,
     "input": [
      "print b"
     ],
     "language": "python",
     "metadata": {},
     "outputs": [
      {
       "output_type": "stream",
       "stream": "stdout",
       "text": [
        "[ThirdClass: absabsabsabsabsabsabshola]\n"
       ]
      }
     ],
     "prompt_number": 17
    },
    {
     "cell_type": "markdown",
     "metadata": {},
     "source": [
      "Ahora vamos a hacer unos ejemplos m\u00e1s realistas, vamos a modelar una persona y un gerente, pero los vamos a colocar a todas las clases en un archivo aparte"
     ]
    },
    {
     "cell_type": "code",
     "collapsed": false,
     "input": [
      "# corremos el archivo donde esta la clase Person\n",
      "%run person.py"
     ],
     "language": "python",
     "metadata": {},
     "outputs": [
      {
       "output_type": "stream",
       "stream": "stdout",
       "text": [
        "Martin Noblia 0\n",
        "Sue Jones 10000\n"
       ]
      }
     ],
     "prompt_number": 20
    },
    {
     "cell_type": "code",
     "collapsed": false,
     "input": [
      "%whos"
     ],
     "language": "python",
     "metadata": {},
     "outputs": [
      {
       "output_type": "stream",
       "stream": "stdout",
       "text": [
        "Variable        Type                    Data/Info\n",
        "-------------------------------------------------\n",
        "FirstClass      classobj                __main__.FirstClass\n",
        "Person          classobj                __main__.Person\n",
        "SecondClass     classobj                __main__.SecondClass\n",
        "ThirdClass      classobj                __main__.ThirdClass\n",
        "b               __main__.ThirdClass     [ThirdClass: absabsabsabsabsabsabshola]\n",
        "martin          __main__.Person         <__main__.Person instance at 0x1e8bf80>\n",
        "primera_clase   __main__.FirstClass     <__main__.FirstClass instance at 0x1e82ef0>\n",
        "segunda_clase   __main__.SecondClass    <__main__.SecondClass instance at 0x1e8b248>\n",
        "sue             __main__.Person         <__main__.Person instance at 0x1e8bfc8>\n",
        "tercera_clase   __main__.ThirdClass     [ThirdClass: absabsabsabsabsabsabs]\n"
       ]
      }
     ],
     "prompt_number": 21
    },
    {
     "cell_type": "code",
     "collapsed": false,
     "input": [],
     "language": "python",
     "metadata": {},
     "outputs": []
    }
   ],
   "metadata": {}
  }
 ]
}